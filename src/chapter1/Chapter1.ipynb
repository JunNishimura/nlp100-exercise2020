{
 "cells": [
  {
   "cell_type": "markdown",
   "metadata": {},
   "source": [
    "# 第１章：準備運動"
   ]
  },
  {
   "cell_type": "markdown",
   "metadata": {},
   "source": [
    "## 00. 文字列の逆順"
   ]
  },
  {
   "cell_type": "code",
   "execution_count": 31,
   "metadata": {},
   "outputs": [
    {
     "name": "stdout",
     "output_type": "stream",
     "text": [
      "desserts\n",
      "desserts\n"
     ]
    }
   ],
   "source": [
    "sentence = \"stressed\"\n",
    "\n",
    "# pattern1\n",
    "print(sentence[::-1])\n",
    "\n",
    "# pattern2\n",
    "print(''.join(list(reversed(sentence))))"
   ]
  },
  {
   "cell_type": "markdown",
   "metadata": {},
   "source": [
    "## 01. 「パタトクカシーー」"
   ]
  },
  {
   "cell_type": "code",
   "execution_count": 32,
   "metadata": {},
   "outputs": [
    {
     "name": "stdout",
     "output_type": "stream",
     "text": [
      "タクシー\n"
     ]
    }
   ],
   "source": [
    "sentence = \"パタトクカシーー\"\n",
    "\n",
    "print(''.join([sentence[i] for i in range(1, len(sentence), 2)]))"
   ]
  },
  {
   "cell_type": "markdown",
   "metadata": {},
   "source": [
    "## 02. 「パトカー」＋「タクシー」＝「パタトクカシーー」"
   ]
  },
  {
   "cell_type": "code",
   "execution_count": 33,
   "metadata": {},
   "outputs": [
    {
     "name": "stdout",
     "output_type": "stream",
     "text": [
      "パタトクカシーー\n"
     ]
    }
   ],
   "source": [
    "sentence1 = \"パトカー\"\n",
    "sentence2 = \"タクシー\"\n",
    "\n",
    "print(''.join([a+b for a, b in zip(sentence1, sentence2)]))"
   ]
  },
  {
   "cell_type": "markdown",
   "metadata": {},
   "source": [
    "## 03. 円周率"
   ]
  },
  {
   "cell_type": "code",
   "execution_count": 34,
   "metadata": {},
   "outputs": [],
   "source": [
    "def clean_sentence(sentence):\n",
    "    return ' '.join([w[:-1] if w.endswith((',', '.')) else w for w in sentence.split()])    "
   ]
  },
  {
   "cell_type": "code",
   "execution_count": 35,
   "metadata": {},
   "outputs": [
    {
     "name": "stdout",
     "output_type": "stream",
     "text": [
      "[3, 1, 4, 1, 5, 9, 2, 6, 5, 3, 5, 8, 9, 7, 9]\n"
     ]
    }
   ],
   "source": [
    "sentence = \"Now I need a drink, alcoholic of course, after the heavy lectures involving quantum mechanics.\"\n",
    "c_list = [len(w) for w in clean_sentence(sentence).split()]\n",
    "\n",
    "print(c_list)  "
   ]
  },
  {
   "cell_type": "markdown",
   "metadata": {},
   "source": [
    "## 04. 元素記号"
   ]
  },
  {
   "cell_type": "code",
   "execution_count": 38,
   "metadata": {},
   "outputs": [
    {
     "name": "stdout",
     "output_type": "stream",
     "text": [
      "{'H': 1, 'He': 2, 'Li': 3, 'Be': 4, 'B': 5, 'C': 6, 'N': 7, 'O': 8, 'F': 9, 'Ne': 10, 'Na': 11, 'Mi': 12, 'Al': 13, 'Si': 14, 'P': 15, 'S': 16, 'Cl': 17, 'Ar': 18, 'K': 19, 'Ca': 20}\n"
     ]
    }
   ],
   "source": [
    "sentence = \"Hi He Lied Because Boron Could Not Oxidize Fluorine. New Nations Might Also Sign Peace Security Clause. Arthur King Can\"\n",
    "numbers = [1, 5, 6, 7, 8, 9, 15, 16, 19]\n",
    "element_dict = {}\n",
    "for i, w in enumerate(clean_sentence(sentence).split()):\n",
    "    if i+1 in numbers:\n",
    "        element_dict[w[0]] = i+1\n",
    "    else:\n",
    "        element_dict[w[:2]] = i+1\n",
    "\n",
    "print(element_dict)"
   ]
  },
  {
   "cell_type": "markdown",
   "metadata": {},
   "source": [
    "## 05.n-gram"
   ]
  },
  {
   "cell_type": "code",
   "execution_count": 46,
   "metadata": {},
   "outputs": [],
   "source": [
    "def word_ngram(sentence, n):\n",
    "    sp_sentence = sentence.split()\n",
    "    return [' '.join(sp_sentence[i:i+n]) for i in range(len(sp_sentence)-n+1)]\n",
    "    \n",
    "def char_ngram(sentence, n):\n",
    "    return [sentence[i:i+n] for i in range(len(sentence)-n+1)]"
   ]
  },
  {
   "cell_type": "code",
   "execution_count": 50,
   "metadata": {},
   "outputs": [
    {
     "name": "stdout",
     "output_type": "stream",
     "text": [
      "['I am', 'am an', 'an NLPer']\n",
      "['I ', ' a', 'am', 'm ', ' a', 'an', 'n ', ' N', 'NL', 'LP', 'Pe', 'er']\n"
     ]
    }
   ],
   "source": [
    "sentence = \"I am an NLPer\"\n",
    "print(word_ngram(sentence, 2))\n",
    "print(char_ngram(sentence, 2))"
   ]
  },
  {
   "cell_type": "markdown",
   "metadata": {},
   "source": [
    "## 06.集合"
   ]
  },
  {
   "cell_type": "code",
   "execution_count": 51,
   "metadata": {},
   "outputs": [
    {
     "name": "stdout",
     "output_type": "stream",
     "text": [
      "和集合: {'ag', 'ra', 'is', 'se', 'ad', 'gr', 'ap', 'ph', 'pa', 'di', 'ar'}\n",
      "積集合: {'ar', 'pa', 'ra', 'ap'}\n",
      "差集合: {'is', 'se', 'di', 'ad'}\n",
      "Does X has 'se'? True\n",
      "Does Y has 'se'? False\n"
     ]
    }
   ],
   "source": [
    "sentence1 = \"paraparaparadise\"\n",
    "sentence2 = \"paragraph\"\n",
    "X = set(char_ngram(sentence1, 2))\n",
    "Y = set(char_ngram(sentence2, 2))\n",
    "\n",
    "print(\"和集合: {}\".format(X | Y))\n",
    "print(\"積集合: {}\".format(X & Y))\n",
    "print(\"差集合: {}\".format(X - Y))\n",
    "print(\"Does X has 'se'? {}\".format('se' in X))\n",
    "print(\"Does Y has 'se'? {}\".format('se' in Y))"
   ]
  },
  {
   "cell_type": "markdown",
   "metadata": {},
   "source": [
    "## 07.テンプレートによる文生成"
   ]
  },
  {
   "cell_type": "code",
   "execution_count": 52,
   "metadata": {},
   "outputs": [
    {
     "name": "stdout",
     "output_type": "stream",
     "text": [
      "12時の気温は22.4\n"
     ]
    }
   ],
   "source": [
    "def sentence_generator(x,y,z):\n",
    "    return (\"{}時の{}は{}\".format(x, y, z))\n",
    "\n",
    "print(sentence_generator(x=12, y=\"気温\", z=22.4))"
   ]
  },
  {
   "cell_type": "markdown",
   "metadata": {},
   "source": [
    "## 08.暗号文"
   ]
  },
  {
   "cell_type": "code",
   "execution_count": 61,
   "metadata": {},
   "outputs": [
    {
     "name": "stdout",
     "output_type": "stream",
     "text": [
      "NvdWliow\n"
     ]
    }
   ],
   "source": [
    "def cipher(sentence):\n",
    "    return ''.join([chr(219-ord(w)) if w.islower() else w for w in sentence])\n",
    "    \n",
    "sentence = \"NewWorld\"\n",
    "print(cipher(sentence))"
   ]
  },
  {
   "cell_type": "markdown",
   "metadata": {
    "tags": []
   },
   "source": [
    "## 09.Typoglycemia"
   ]
  },
  {
   "cell_type": "code",
   "execution_count": 67,
   "metadata": {},
   "outputs": [],
   "source": [
    "import random\n",
    "\n",
    "def shuffle(sentence):\n",
    "    return sentence[0] + ''.join(random.sample(sentence[1:-1], len(sentence)-2)) + sentence[-1]\n",
    "\n",
    "def typoglycemia(sentence):\n",
    "    return ' '.join([shuffle(w) if len(w) > 4 else w for w in sentence.split()])"
   ]
  },
  {
   "cell_type": "code",
   "execution_count": 68,
   "metadata": {},
   "outputs": [
    {
     "data": {
      "text/plain": [
       "'I c’odunlt bvleiee that I cuold aautlcly uestnnardd what I was rdanieg : the paehenonml pwoer of the haumn mind .'"
      ]
     },
     "execution_count": 68,
     "metadata": {},
     "output_type": "execute_result"
    }
   ],
   "source": [
    "sentence = \"I couldn’t believe that I could actually understand what I was reading : the phenomenal power of the human mind .\"\n",
    "typoglycemia(sentence)"
   ]
  },
  {
   "cell_type": "code",
   "execution_count": null,
   "metadata": {},
   "outputs": [],
   "source": []
  }
 ],
 "metadata": {
  "kernelspec": {
   "display_name": "Python 3",
   "language": "python",
   "name": "python3"
  },
  "language_info": {
   "codemirror_mode": {
    "name": "ipython",
    "version": 3
   },
   "file_extension": ".py",
   "mimetype": "text/x-python",
   "name": "python",
   "nbconvert_exporter": "python",
   "pygments_lexer": "ipython3",
   "version": "3.9.2"
  }
 },
 "nbformat": 4,
 "nbformat_minor": 4
}
