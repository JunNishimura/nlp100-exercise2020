{
 "cells": [
  {
   "cell_type": "markdown",
   "id": "finnish-liberia",
   "metadata": {},
   "source": [
    "# 第２章：UNIXコマンド"
   ]
  },
  {
   "cell_type": "code",
   "execution_count": 21,
   "id": "atomic-maldives",
   "metadata": {},
   "outputs": [],
   "source": [
    "file_path = \"../data/popular-names.txt\"\n",
    "with open(file_path, \"r\") as f:\n",
    "    file = f.readlines()"
   ]
  },
  {
   "cell_type": "markdown",
   "id": "present-birthday",
   "metadata": {},
   "source": [
    "## 10. 行数のカウント"
   ]
  },
  {
   "cell_type": "code",
   "execution_count": 22,
   "id": "oriented-peripheral",
   "metadata": {},
   "outputs": [],
   "source": [
    "def count_line(f):\n",
    "    return len(f)"
   ]
  },
  {
   "cell_type": "code",
   "execution_count": 23,
   "id": "complete-cycling",
   "metadata": {},
   "outputs": [
    {
     "name": "stdout",
     "output_type": "stream",
     "text": [
      "行数： 2780\n"
     ]
    }
   ],
   "source": [
    "print(\"行数：\", count_line(file))"
   ]
  },
  {
   "cell_type": "markdown",
   "id": "conscious-timeline",
   "metadata": {},
   "source": [
    "## 11. タブをスペースに置換"
   ]
  },
  {
   "cell_type": "code",
   "execution_count": 24,
   "id": "greenhouse-teach",
   "metadata": {},
   "outputs": [],
   "source": [
    "def tab2space(f):\n",
    "    return [line.replace('\\t', ' ') for line in f]"
   ]
  },
  {
   "cell_type": "code",
   "execution_count": 25,
   "id": "powered-speaking",
   "metadata": {},
   "outputs": [
    {
     "data": {
      "text/plain": [
       "['Mary F 7065 1880\\n',\n",
       " 'Anna F 2604 1880\\n',\n",
       " 'Emma F 2003 1880\\n',\n",
       " 'Elizabeth F 1939 1880\\n',\n",
       " 'Minnie F 1746 1880\\n',\n",
       " 'Margaret F 1578 1880\\n',\n",
       " 'Ida F 1472 1880\\n',\n",
       " 'Alice F 1414 1880\\n',\n",
       " 'Bertha F 1320 1880\\n',\n",
       " 'Sarah F 1288 1880\\n']"
      ]
     },
     "execution_count": 25,
     "metadata": {},
     "output_type": "execute_result"
    }
   ],
   "source": [
    "tab2space(file)[:10]"
   ]
  },
  {
   "cell_type": "markdown",
   "id": "still-consultation",
   "metadata": {},
   "source": [
    "## 12. 1列目をcol1.txtに，2列目をcol2.txtに保存"
   ]
  },
  {
   "cell_type": "code",
   "execution_count": 28,
   "id": "hourly-pixel",
   "metadata": {},
   "outputs": [],
   "source": [
    "def col_extractor(n, f):\n",
    "    return [line.split('\\t')[n-1]+'\\n' for line in f]\n",
    "\n",
    "def save2file(data, name):\n",
    "    with open(file=name, mode='w') as f:\n",
    "        f.writelines(data)"
   ]
  },
  {
   "cell_type": "code",
   "execution_count": 31,
   "id": "activated-smoke",
   "metadata": {},
   "outputs": [],
   "source": [
    "save2file(col_extractor(1, file), './chapter2/col1.txt')\n",
    "save2file(col_extractor(2, file), './chapter2/col2.txt')"
   ]
  },
  {
   "cell_type": "markdown",
   "id": "surgical-lender",
   "metadata": {},
   "source": [
    "## 13. col1.txtとcol2.txtをマージ"
   ]
  },
  {
   "cell_type": "code",
   "execution_count": 34,
   "id": "thirty-blond",
   "metadata": {},
   "outputs": [],
   "source": [
    "def merge_file(file1, file2):\n",
    "    with open(file1, 'r') as f1, open(file2, 'r') as f2:\n",
    "        return [ a.replace('\\n', '\\t') + b for a, b in zip(f1.readlines(), f2.readlines())]"
   ]
  },
  {
   "cell_type": "code",
   "execution_count": 37,
   "id": "monthly-longitude",
   "metadata": {},
   "outputs": [],
   "source": [
    "save2file(merge_file('./chapter2/col1.txt', './chapter2/col2.txt'), './chapter2/merge.txt')"
   ]
  },
  {
   "cell_type": "code",
   "execution_count": null,
   "id": "alleged-queen",
   "metadata": {},
   "outputs": [],
   "source": []
  }
 ],
 "metadata": {
  "kernelspec": {
   "display_name": "Python 3",
   "language": "python",
   "name": "python3"
  },
  "language_info": {
   "codemirror_mode": {
    "name": "ipython",
    "version": 3
   },
   "file_extension": ".py",
   "mimetype": "text/x-python",
   "name": "python",
   "nbconvert_exporter": "python",
   "pygments_lexer": "ipython3",
   "version": "3.9.2"
  }
 },
 "nbformat": 4,
 "nbformat_minor": 5
}
